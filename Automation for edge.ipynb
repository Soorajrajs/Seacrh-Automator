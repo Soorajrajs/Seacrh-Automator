{
 "cells": [
  {
   "cell_type": "code",
   "execution_count": null,
   "metadata": {},
   "outputs": [],
   "source": [
    "#install selenium\n",
    "%pip install selenium"
   ]
  },
  {
   "cell_type": "code",
   "execution_count": 3,
   "metadata": {},
   "outputs": [],
   "source": [
    "from selenium import webdriver\n",
    "from selenium.webdriver.common.keys import Keys\n",
    "import time\n",
    "\n",
    "# List of words to search\n",
    "search_words = [\n",
    "    #Enter your Words here\n",
    "]\n",
    "\n",
    "# Path to the Microsoft Edge WebDriver executable\n",
    "edge_driver_path = r'C:\\ProgramData\\Microsoft\\Windows\\Start Menu\\Programs/MicrosoftWebDriver.exe'  # Update this path\n",
    "\n",
    "# Configuring Edge WebDriver\n",
    "edge_options = webdriver.EdgeOptions()\n",
    "edge_options.use_chromium = True\n",
    "\n",
    "# Using Edge as the browser\n",
    "driver = webdriver.Edge()#executable_path=edge_driver_path, options=edge_options)\n",
    "\n",
    "# Open 30 new tabs and search each word\n",
    "for word in search_words:\n",
    "    driver.execute_script(\"window.open('about:blank', '_blank');\")\n",
    "    driver.switch_to.window(driver.window_handles[-1])\n",
    "    driver.get(\"https://www.bing.com\")\n",
    "    search_box = driver.find_element(\"name\",\"q\")\n",
    "    search_box.send_keys(word)\n",
    "    search_box.send_keys(Keys.RETURN)\n",
    "    time.sleep(4)  # Optional: Add a delay between searches\n",
    "\n",
    "# Close the browser window\n",
    "driver.quit()\n"
   ]
  }
 ],
 "metadata": {
  "kernelspec": {
   "display_name": "Python 3",
   "language": "python",
   "name": "python3"
  },
  "language_info": {
   "codemirror_mode": {
    "name": "ipython",
    "version": 3
   },
   "file_extension": ".py",
   "mimetype": "text/x-python",
   "name": "python",
   "nbconvert_exporter": "python",
   "pygments_lexer": "ipython3",
   "version": "3.11.6"
  }
 },
 "nbformat": 4,
 "nbformat_minor": 2
}
